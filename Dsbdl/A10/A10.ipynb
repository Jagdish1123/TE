{
 "cells": [
  {
   "cell_type": "markdown",
   "id": "042a4d68",
   "metadata": {},
   "source": [
    "#  Import required libraries"
   ]
  },
  {
   "cell_type": "code",
   "execution_count": 79,
   "id": "53de88db",
   "metadata": {},
   "outputs": [
    {
     "name": "stderr",
     "output_type": "stream",
     "text": [
      "[nltk_data] Downloading package punkt to /home/jagdish/nltk_data...\n",
      "[nltk_data]   Unzipping tokenizers/punkt.zip.\n",
      "[nltk_data] Downloading package punkt_tab to\n",
      "[nltk_data]     /home/jagdish/nltk_data...\n",
      "[nltk_data]   Unzipping tokenizers/punkt_tab.zip.\n",
      "[nltk_data] Downloading package stopwords to\n",
      "[nltk_data]     /home/jagdish/nltk_data...\n",
      "[nltk_data]   Package stopwords is already up-to-date!\n",
      "[nltk_data] Downloading package averaged_perceptron_tagger to\n",
      "[nltk_data]     /home/jagdish/nltk_data...\n",
      "[nltk_data]   Package averaged_perceptron_tagger is already up-to-\n",
      "[nltk_data]       date!\n",
      "[nltk_data] Downloading package averaged_perceptron_tagger_eng to\n",
      "[nltk_data]     /home/jagdish/nltk_data...\n",
      "[nltk_data]   Unzipping taggers/averaged_perceptron_tagger_eng.zip.\n",
      "[nltk_data] Downloading package wordnet to /home/jagdish/nltk_data...\n",
      "[nltk_data]   Package wordnet is already up-to-date!\n"
     ]
    }
   ],
   "source": [
    "#  Import required libraries\n",
    "import math\n",
    "import re\n",
    "import nltk\n",
    "\n",
    "#  Download necessary NLTK data\n",
    "nltk.download('punkt')                       # Tokenizer models\n",
    "nltk.download('punkt_tab')                   # (Uncommon, usually not needed separately)\n",
    "nltk.download('stopwords')                   # List of stopwords\n",
    "nltk.download('averaged_perceptron_tagger')   # POS Tagger for English\n",
    "nltk.download('averaged_perceptron_tagger_eng') # (Uncommon, might be misnamed or redundant)\n",
    "nltk.download('wordnet')                     # WordNet corpus for lemmatization\n",
    "\n",
    "#  Import NLTK components after downloads\n",
    "from nltk.stem import WordNetLemmatizer\n",
    "from nltk.corpus import stopwords\n"
   ]
  },
  {
   "cell_type": "markdown",
   "id": "c7c2eb88",
   "metadata": {},
   "source": [
    "# Text Preprocessing"
   ]
  },
  {
   "cell_type": "code",
   "execution_count": null,
   "id": "20a79fa8",
   "metadata": {},
   "outputs": [],
   "source": [
    "\n",
    "with open('doc_01.txt', 'r') as file:\n",
    "    doc1 = file.read()\n",
    "\n",
    "with open('doc_02.txt', 'r') as file:\n",
    "    doc2 = file.read()"
   ]
  },
  {
   "cell_type": "markdown",
   "id": "21dd0c12",
   "metadata": {},
   "source": [
    "# Tokenization\n",
    "Tokenization is the process of breaking down a text into individual words or tokens. This is often the first step in natural language processing tasks"
   ]
  },
  {
   "cell_type": "code",
   "execution_count": null,
   "id": "4744e19f",
   "metadata": {},
   "outputs": [
    {
     "name": "stdout",
     "output_type": "stream",
     "text": [
      "['Between', '2016', 'and', '2019', ',', 'the', 'state', 'forest', 'department', 'under', 'the', 'BJP', 'government', 'had', 'launched', '‘', 'Green', 'Maharashtra', '’', 'drive', 'with', 'an', 'aim', 'to', 'plant', '50', 'crore', 'trees', 'across', 'the', 'state', 'in', 'the', 'four-year', 'period', '.', 'In', 'October', '2019', ',', 'the', 'government', 'had', 'claimed', 'it', 'had', 'surpassed', 'the', 'target', 'by', 'planting', '33', 'crore', 'trees', 'in', 'July-September', '2019', '.', 'The', 'Indian', 'Express', 'had', 'found', 'that', 'non-forest', 'agencies', '—', 'such', 'as', 'gram', 'panchayats', '—', 'which', 'were', 'tasked', 'with', 'planting', 'trees', 'had', 'not', 'uploaded', 'the', 'mandatory', 'audio-visual', 'proof', 'of', 'the', 'tree', 'plantation', 'drives', 'on', 'the', 'specially', 'created', 'portal', '.', 'In', 'Pune', 'Revenue', 'Division', ',', 'it', 'was', 'claimed', 'the', 'gram', 'panchayats', 'planted', '1.7', 'crore', 'saplings', ';', 'however', ',', 'no', 'evidence', 'was', 'uploaded', 'for', '87', 'per', 'cent', '(', '1.49', 'crore', ')', 'saplings', '.', 'Also', ',', 'out', 'of', 'the', '59', 'government', 'agencies', 'involved', 'in', 'the', 'drive', 'as', 'many', 'as', '38', 'had', 'not', 'submitted', 'survival', 'reports', 'about', 'the', 'saplings', '.', 'This', 'year', ',', 'the', 'targets', 'set', 'by', 'the', 'forest', 'department', 'were', 'comparatively', 'modest', '.', 'For', 'example', ',', 'Pune', 'Circle', '—', 'which', 'comprises', 'three', 'divisions', 'in', 'Pune', 'and', 'Solapur', 'district', '—', 'had', 'planned', 'to', 'plant', '17', 'lakh', 'saplings', 'on', 'forest', 'land', '.', 'However', ',', 'it', 'may', 'not', 'meet', 'the', 'target', 'due', 'to', 'unavailability', 'of', 'funds', '.', 'Last', 'year', 'Pune', 'Circle', 'planted', '70', 'lakh', 'saplings', 'on', 'forest', 'land', '.', 'In', 'Pune', 'Division', '—', 'which', 'comprises', 'six', 'talukas', 'namely', 'Maval', ',', 'Mulshi', ',', 'Daund', ',', 'Indapur', ',', 'Baramati', 'and', 'Havveli', '—', 'preparations', 'were', 'done', 'for', 'plantation', 'of', 'about', '4', 'lakh', 'trees', 'with', 'special', 'emphasis', 'on', 'teakwood', '.', 'The', 'National', 'Forest', 'Policy', 'aims', 'and', 'emphasizes', 'at', 'maintaining', '33', '%', 'of', 'the', 'country', '’', 's', 'geographical', 'area', 'under', 'forest', 'and', 'green', 'cover', '.', 'In', 'view', 'of', 'this', 'and', 'as', 'a', 'part', 'of', 'the', '50', 'crore', 'plantation', 'programme', 'within', 'Maharashtra', ',', 'the', 'Maharashtra', 'Forest', 'Department', 'aims', 'to', 'plant', '4', 'crore', 'saplings', 'all', 'over', 'the', 'State', 'between', '1st', 'to', 'July', '7th', ',', '2017', 'to', 'celebrate', '‘', 'Vanmohotsav', '’', '.', 'The', 'plantation', 'programme', ',', 'which', 'was', 'announced', 'in', '2016', 'with', 'the', 'aim', 'of', 'planting', '2', 'crore', 'trees', 'on', '1st', 'July', '2016', 'was', 'a', 'resounding', 'success', 'with', 'the', 'final', 'total', 'reported', 'figure', 'of', '2.82', 'crore', 'saplings', 'planted', 'on', 'a', 'single', 'day', '.', 'To', 'maintain', 'consistency', 'of', 'this', 'platform', 'without', 'affecting', 'its', 'momentum', ',', 'the', 'Forest', 'Department', 'has', 'set', 'the', 'target', 'of', 'plantation', 'of', '4', 'crore', ',', '13', 'crore', 'and', '33', 'crore', 'saplings', 'under', 'the', 'mission', 'of', '50', 'crore', 'plantation', 'which', 'shall', 'be', 'accomplished', 'in', 'the', 'three', 'consecutive', 'years', 'viz', '.', '2017', ',', '2018', 'and', '2019', '.', 'The', '4', 'crore', 'saplings', 'for', 'the', 'year', '2017', 'will', 'be', 'planted', 'during', 'the', 'Vanmohotsav', ',', 'July', '1st', 'to', 'July', '7th', 'in', 'a', 'state-wide', 'drive', 'with', 'the', 'involvement', 'of', '33', 'government', 'departments', 'along', 'with', 'Students', 'of', 'Schools', 'and', 'Colleges', ',', 'NSS', ',', 'NCC', ',', 'CSR', ',', 'NGOs', ',', 'Railways', ',', 'National', 'Highways', ',', 'Defence', ',', 'NABARD', 'and', 'other', 'stakeholders', 'of', 'Society', '.', 'In', 'a', 'first', 'of', 'its', 'kind', ',', 'a', '24-hour', 'toll', 'free', 'helpline', 'number', '1926', 'called', '‘', 'Hello', 'Forest', '’', 'has', 'been', 'set', 'up', 'to', 'provide', 'information', 'regarding', 'plantation', ',', 'protection', 'and', 'for', 'mass', 'awareness', '.', 'The', 'Forest', 'Department', 'has', 'created', 'a', 'mobile', 'application', 'called', '‘', 'My', 'Plants', '’', 'to', 'record', 'details', 'of', 'the', 'plantation', 'such', 'as', 'numbers', ',', 'species', 'and', 'location', 'into', 'the', 'computer', 'system', 'of', 'the', 'Forest', 'Department', '.', 'All', 'volunteers', 'at', 'individual', ',', 'collective', 'and', 'organizational', 'level', 'should', 'download', 'and', 'use', 'this', 'application', 'to', 'record', 'their', 'tree', 'plantation', 'work', 'through', 'the', 'application', ',', 'which', 'will', 'be', 'operational', 'from', '1st', 'July', 'to', '7th', 'July', '.', 'In', 'consonance', 'of', 'the', 'public', 'participation', ',', 'the', 'Maharashtra', 'Forest', 'Department', 'has', 'initiated', 'the', '‘', 'Maharashtra', 'Harit', 'Sena', '’', '/', '‘', 'Green', 'Army', '’', 'which', 'is', 'a', 'body', 'of', 'dedicated', 'volunteers', 'to', 'participate', 'in', 'the', 'plantation', ',', 'protection', ',', 'and', 'activities', 'in', 'forest', ',', 'wildlife', ',', 'and', 'related', 'sectors', 'around', 'the', 'year', '.', 'Individuals', 'and', 'organisations', 'interested', 'in', 'volunteering', 'can', 'register', 'on', 'the', 'Green', 'Army', 'website', 'www.greenarmy.mahaforest.gov.in', 'An', 'integrated', 'drive', 'has', 'been', 'set', 'in', 'place', 'to', 'ensure', 'seamless', 'and', 'successful', 'participation', 'from', 'all', 'stakeholders', 'of', 'society', ',', 'especially', 'the', 'public', '.']\n"
     ]
    }
   ],
   "source": [
    "word_tokens = nltk.word_tokenize(doc1)\n",
    "print(word_tokens)"
   ]
  },
  {
   "cell_type": "markdown",
   "id": "0cf9b216",
   "metadata": {},
   "source": [
    "# Stop Words\n",
    "Stop words are common words like 'the', 'is', 'and', etc., which often do not carry significant meaning in text analysis. Remove these stop words from the text to focus on the more meaningful content."
   ]
  },
  {
   "cell_type": "code",
   "execution_count": 82,
   "id": "8aee53b7",
   "metadata": {},
   "outputs": [
    {
     "name": "stdout",
     "output_type": "stream",
     "text": [
      "['Between', '2016', '2019', ',', 'state', 'forest', 'department', 'BJP', 'government', 'launched', '‘', 'Green', 'Maharashtra', '’', 'drive', 'aim', 'plant', '50', 'crore', 'trees', 'across', 'state', 'four-year', 'period', '.', 'In', 'October', '2019', ',', 'government', 'claimed', 'surpassed', 'target', 'planting', '33', 'crore', 'trees', 'July-September', '2019', '.', 'The', 'Indian', 'Express', 'found', 'non-forest', 'agencies', '—', 'gram', 'panchayats', '—', 'tasked', 'planting', 'trees', 'uploaded', 'mandatory', 'audio-visual', 'proof', 'tree', 'plantation', 'drives', 'specially', 'created', 'portal', '.', 'In', 'Pune', 'Revenue', 'Division', ',', 'claimed', 'gram', 'panchayats', 'planted', '1.7', 'crore', 'saplings', ';', 'however', ',', 'evidence', 'uploaded', '87', 'per', 'cent', '(', '1.49', 'crore', ')', 'saplings', '.', 'Also', ',', '59', 'government', 'agencies', 'involved', 'drive', 'many', '38', 'submitted', 'survival', 'reports', 'saplings', '.', 'This', 'year', ',', 'targets', 'set', 'forest', 'department', 'comparatively', 'modest', '.', 'For', 'example', ',', 'Pune', 'Circle', '—', 'comprises', 'three', 'divisions', 'Pune', 'Solapur', 'district', '—', 'planned', 'plant', '17', 'lakh', 'saplings', 'forest', 'land', '.', 'However', ',', 'may', 'meet', 'target', 'due', 'unavailability', 'funds', '.', 'Last', 'year', 'Pune', 'Circle', 'planted', '70', 'lakh', 'saplings', 'forest', 'land', '.', 'In', 'Pune', 'Division', '—', 'comprises', 'six', 'talukas', 'namely', 'Maval', ',', 'Mulshi', ',', 'Daund', ',', 'Indapur', ',', 'Baramati', 'Havveli', '—', 'preparations', 'done', 'plantation', '4', 'lakh', 'trees', 'special', 'emphasis', 'teakwood', '.', 'The', 'National', 'Forest', 'Policy', 'aims', 'emphasizes', 'maintaining', '33', '%', 'country', '’', 'geographical', 'area', 'forest', 'green', 'cover', '.', 'In', 'view', 'part', '50', 'crore', 'plantation', 'programme', 'within', 'Maharashtra', ',', 'Maharashtra', 'Forest', 'Department', 'aims', 'plant', '4', 'crore', 'saplings', 'State', '1st', 'July', '7th', ',', '2017', 'celebrate', '‘', 'Vanmohotsav', '’', '.', 'The', 'plantation', 'programme', ',', 'announced', '2016', 'aim', 'planting', '2', 'crore', 'trees', '1st', 'July', '2016', 'resounding', 'success', 'final', 'total', 'reported', 'figure', '2.82', 'crore', 'saplings', 'planted', 'single', 'day', '.', 'To', 'maintain', 'consistency', 'platform', 'without', 'affecting', 'momentum', ',', 'Forest', 'Department', 'set', 'target', 'plantation', '4', 'crore', ',', '13', 'crore', '33', 'crore', 'saplings', 'mission', '50', 'crore', 'plantation', 'shall', 'accomplished', 'three', 'consecutive', 'years', 'viz', '.', '2017', ',', '2018', '2019', '.', 'The', '4', 'crore', 'saplings', 'year', '2017', 'planted', 'Vanmohotsav', ',', 'July', '1st', 'July', '7th', 'state-wide', 'drive', 'involvement', '33', 'government', 'departments', 'along', 'Students', 'Schools', 'Colleges', ',', 'NSS', ',', 'NCC', ',', 'CSR', ',', 'NGOs', ',', 'Railways', ',', 'National', 'Highways', ',', 'Defence', ',', 'NABARD', 'stakeholders', 'Society', '.', 'In', 'first', 'kind', ',', '24-hour', 'toll', 'free', 'helpline', 'number', '1926', 'called', '‘', 'Hello', 'Forest', '’', 'set', 'provide', 'information', 'regarding', 'plantation', ',', 'protection', 'mass', 'awareness', '.', 'The', 'Forest', 'Department', 'created', 'mobile', 'application', 'called', '‘', 'My', 'Plants', '’', 'record', 'details', 'plantation', 'numbers', ',', 'species', 'location', 'computer', 'system', 'Forest', 'Department', '.', 'All', 'volunteers', 'individual', ',', 'collective', 'organizational', 'level', 'download', 'use', 'application', 'record', 'tree', 'plantation', 'work', 'application', ',', 'operational', '1st', 'July', '7th', 'July', '.', 'In', 'consonance', 'public', 'participation', ',', 'Maharashtra', 'Forest', 'Department', 'initiated', '‘', 'Maharashtra', 'Harit', 'Sena', '’', '/', '‘', 'Green', 'Army', '’', 'body', 'dedicated', 'volunteers', 'participate', 'plantation', ',', 'protection', ',', 'activities', 'forest', ',', 'wildlife', ',', 'related', 'sectors', 'around', 'year', '.', 'Individuals', 'organisations', 'interested', 'volunteering', 'register', 'Green', 'Army', 'website', 'www.greenarmy.mahaforest.gov.in', 'An', 'integrated', 'drive', 'set', 'place', 'ensure', 'seamless', 'successful', 'participation', 'stakeholders', 'society', ',', 'especially', 'public', '.']\n"
     ]
    }
   ],
   "source": [
    "stop_words = set(stopwords.words('english'))\n",
    "\n",
    "filtered_tokens = []\n",
    "for token in word_tokens:\n",
    "    if token not in stop_words:\n",
    "        filtered_tokens.append(token)\n",
    "\n",
    "print(filtered_tokens)"
   ]
  },
  {
   "cell_type": "markdown",
   "id": "64926593",
   "metadata": {},
   "source": [
    "# POS Tagging\n",
    "POS tagging involves labeling each word in a sentence with its corresponding part of speech, such as noun, verb, adjective, etc."
   ]
  },
  {
   "cell_type": "code",
   "execution_count": 83,
   "id": "25cf9637",
   "metadata": {},
   "outputs": [
    {
     "name": "stdout",
     "output_type": "stream",
     "text": [
      "[('Between', 'JJ'), ('2016', 'CD'), ('and', 'CC'), ('2019', 'CD'), (',', ','), ('the', 'DT'), ('state', 'NN'), ('forest', 'JJS'), ('department', 'NN'), ('under', 'IN'), ('the', 'DT'), ('BJP', 'NNP'), ('government', 'NN'), ('had', 'VBD'), ('launched', 'VBN'), ('‘', 'RB'), ('Green', 'NNP'), ('Maharashtra', 'NNP'), ('’', 'NNP'), ('drive', 'NN'), ('with', 'IN'), ('an', 'DT'), ('aim', 'NN'), ('to', 'TO'), ('plant', 'NN'), ('50', 'CD'), ('crore', 'NN'), ('trees', 'NNS'), ('across', 'IN'), ('the', 'DT'), ('state', 'NN'), ('in', 'IN'), ('the', 'DT'), ('four-year', 'JJ'), ('period', 'NN'), ('.', '.'), ('In', 'IN'), ('October', 'NNP'), ('2019', 'CD'), (',', ','), ('the', 'DT'), ('government', 'NN'), ('had', 'VBD'), ('claimed', 'VBN'), ('it', 'PRP'), ('had', 'VBD'), ('surpassed', 'VBN'), ('the', 'DT'), ('target', 'NN'), ('by', 'IN'), ('planting', 'VBG'), ('33', 'CD'), ('crore', 'NN'), ('trees', 'NNS'), ('in', 'IN'), ('July-September', 'NNP'), ('2019', 'CD'), ('.', '.'), ('The', 'DT'), ('Indian', 'JJ'), ('Express', 'NNP'), ('had', 'VBD'), ('found', 'VBN'), ('that', 'IN'), ('non-forest', 'JJ'), ('agencies', 'NNS'), ('—', 'VBP'), ('such', 'JJ'), ('as', 'IN'), ('gram', 'NN'), ('panchayats', 'NNS'), ('—', 'VBP'), ('which', 'WDT'), ('were', 'VBD'), ('tasked', 'VBN'), ('with', 'IN'), ('planting', 'VBG'), ('trees', 'NNS'), ('had', 'VBD'), ('not', 'RB'), ('uploaded', 'VBN'), ('the', 'DT'), ('mandatory', 'JJ'), ('audio-visual', 'JJ'), ('proof', 'NN'), ('of', 'IN'), ('the', 'DT'), ('tree', 'JJ'), ('plantation', 'NN'), ('drives', 'NNS'), ('on', 'IN'), ('the', 'DT'), ('specially', 'RB'), ('created', 'VBN'), ('portal', 'NN'), ('.', '.'), ('In', 'IN'), ('Pune', 'NNP'), ('Revenue', 'NNP'), ('Division', 'NNP'), (',', ','), ('it', 'PRP'), ('was', 'VBD'), ('claimed', 'VBN'), ('the', 'DT'), ('gram', 'NN'), ('panchayats', 'NNS'), ('planted', 'VBD'), ('1.7', 'CD'), ('crore', 'NN'), ('saplings', 'NNS'), (';', ':'), ('however', 'RB'), (',', ','), ('no', 'DT'), ('evidence', 'NN'), ('was', 'VBD'), ('uploaded', 'VBN'), ('for', 'IN'), ('87', 'CD'), ('per', 'IN'), ('cent', 'NN'), ('(', '('), ('1.49', 'CD'), ('crore', 'NN'), (')', ')'), ('saplings', 'NNS'), ('.', '.'), ('Also', 'RB'), (',', ','), ('out', 'IN'), ('of', 'IN'), ('the', 'DT'), ('59', 'CD'), ('government', 'NN'), ('agencies', 'NNS'), ('involved', 'VBN'), ('in', 'IN'), ('the', 'DT'), ('drive', 'NN'), ('as', 'RB'), ('many', 'JJ'), ('as', 'IN'), ('38', 'CD'), ('had', 'VBD'), ('not', 'RB'), ('submitted', 'VBN'), ('survival', 'JJ'), ('reports', 'NNS'), ('about', 'IN'), ('the', 'DT'), ('saplings', 'NNS'), ('.', '.'), ('This', 'DT'), ('year', 'NN'), (',', ','), ('the', 'DT'), ('targets', 'NNS'), ('set', 'VBN'), ('by', 'IN'), ('the', 'DT'), ('forest', 'JJS'), ('department', 'NN'), ('were', 'VBD'), ('comparatively', 'RB'), ('modest', 'JJ'), ('.', '.'), ('For', 'IN'), ('example', 'NN'), (',', ','), ('Pune', 'NNP'), ('Circle', 'NNP'), ('—', 'NNP'), ('which', 'WDT'), ('comprises', 'VBZ'), ('three', 'CD'), ('divisions', 'NNS'), ('in', 'IN'), ('Pune', 'NNP'), ('and', 'CC'), ('Solapur', 'NNP'), ('district', 'NN'), ('—', 'NN'), ('had', 'VBD'), ('planned', 'VBN'), ('to', 'TO'), ('plant', 'NN'), ('17', 'CD'), ('lakh', 'JJ'), ('saplings', 'NNS'), ('on', 'IN'), ('forest', 'JJS'), ('land', 'NN'), ('.', '.'), ('However', 'RB'), (',', ','), ('it', 'PRP'), ('may', 'MD'), ('not', 'RB'), ('meet', 'VB'), ('the', 'DT'), ('target', 'NN'), ('due', 'JJ'), ('to', 'TO'), ('unavailability', 'NN'), ('of', 'IN'), ('funds', 'NNS'), ('.', '.'), ('Last', 'JJ'), ('year', 'NN'), ('Pune', 'NNP'), ('Circle', 'NNP'), ('planted', 'VBD'), ('70', 'CD'), ('lakh', 'JJ'), ('saplings', 'NNS'), ('on', 'IN'), ('forest', 'JJS'), ('land', 'NN'), ('.', '.'), ('In', 'IN'), ('Pune', 'NNP'), ('Division', 'NNP'), ('—', 'NNP'), ('which', 'WDT'), ('comprises', 'VBZ'), ('six', 'CD'), ('talukas', 'NN'), ('namely', 'RB'), ('Maval', 'NNP'), (',', ','), ('Mulshi', 'NNP'), (',', ','), ('Daund', 'NNP'), (',', ','), ('Indapur', 'NNP'), (',', ','), ('Baramati', 'NNP'), ('and', 'CC'), ('Havveli', 'NNP'), ('—', 'NNP'), ('preparations', 'NNS'), ('were', 'VBD'), ('done', 'VBN'), ('for', 'IN'), ('plantation', 'NN'), ('of', 'IN'), ('about', 'IN'), ('4', 'CD'), ('lakh', 'NNS'), ('trees', 'NNS'), ('with', 'IN'), ('special', 'JJ'), ('emphasis', 'NN'), ('on', 'IN'), ('teakwood', 'NN'), ('.', '.'), ('The', 'DT'), ('National', 'NNP'), ('Forest', 'NNP'), ('Policy', 'NN'), ('aims', 'NNS'), ('and', 'CC'), ('emphasizes', 'VBZ'), ('at', 'IN'), ('maintaining', 'VBG'), ('33', 'CD'), ('%', 'NN'), ('of', 'IN'), ('the', 'DT'), ('country', 'NN'), ('’', 'NNP'), ('s', 'VBZ'), ('geographical', 'JJ'), ('area', 'NN'), ('under', 'IN'), ('forest', 'NN'), ('and', 'CC'), ('green', 'JJ'), ('cover', 'NN'), ('.', '.'), ('In', 'IN'), ('view', 'NN'), ('of', 'IN'), ('this', 'DT'), ('and', 'CC'), ('as', 'IN'), ('a', 'DT'), ('part', 'NN'), ('of', 'IN'), ('the', 'DT'), ('50', 'CD'), ('crore', 'NN'), ('plantation', 'NN'), ('programme', 'NN'), ('within', 'IN'), ('Maharashtra', 'NNP'), (',', ','), ('the', 'DT'), ('Maharashtra', 'NNP'), ('Forest', 'NNP'), ('Department', 'NNP'), ('aims', 'VBZ'), ('to', 'TO'), ('plant', 'NN'), ('4', 'CD'), ('crore', 'NN'), ('saplings', 'NNS'), ('all', 'DT'), ('over', 'IN'), ('the', 'DT'), ('State', 'NNP'), ('between', 'IN'), ('1st', 'CD'), ('to', 'TO'), ('July', 'NNP'), ('7th', 'CD'), (',', ','), ('2017', 'CD'), ('to', 'TO'), ('celebrate', 'VB'), ('‘', 'NNP'), ('Vanmohotsav', 'NNP'), ('’', 'NNP'), ('.', '.'), ('The', 'DT'), ('plantation', 'NN'), ('programme', 'NN'), (',', ','), ('which', 'WDT'), ('was', 'VBD'), ('announced', 'VBN'), ('in', 'IN'), ('2016', 'CD'), ('with', 'IN'), ('the', 'DT'), ('aim', 'NN'), ('of', 'IN'), ('planting', 'VBG'), ('2', 'CD'), ('crore', 'NN'), ('trees', 'NNS'), ('on', 'IN'), ('1st', 'CD'), ('July', 'NNP'), ('2016', 'CD'), ('was', 'VBD'), ('a', 'DT'), ('resounding', 'JJ'), ('success', 'NN'), ('with', 'IN'), ('the', 'DT'), ('final', 'JJ'), ('total', 'NN'), ('reported', 'VBD'), ('figure', 'NN'), ('of', 'IN'), ('2.82', 'CD'), ('crore', 'NN'), ('saplings', 'NNS'), ('planted', 'VBN'), ('on', 'IN'), ('a', 'DT'), ('single', 'JJ'), ('day', 'NN'), ('.', '.'), ('To', 'TO'), ('maintain', 'VB'), ('consistency', 'NN'), ('of', 'IN'), ('this', 'DT'), ('platform', 'NN'), ('without', 'IN'), ('affecting', 'VBG'), ('its', 'PRP$'), ('momentum', 'NN'), (',', ','), ('the', 'DT'), ('Forest', 'NNP'), ('Department', 'NNP'), ('has', 'VBZ'), ('set', 'VBN'), ('the', 'DT'), ('target', 'NN'), ('of', 'IN'), ('plantation', 'NN'), ('of', 'IN'), ('4', 'CD'), ('crore', 'NN'), (',', ','), ('13', 'CD'), ('crore', 'NN'), ('and', 'CC'), ('33', 'CD'), ('crore', 'NN'), ('saplings', 'NNS'), ('under', 'IN'), ('the', 'DT'), ('mission', 'NN'), ('of', 'IN'), ('50', 'CD'), ('crore', 'NN'), ('plantation', 'NN'), ('which', 'WDT'), ('shall', 'MD'), ('be', 'VB'), ('accomplished', 'VBN'), ('in', 'IN'), ('the', 'DT'), ('three', 'CD'), ('consecutive', 'JJ'), ('years', 'NNS'), ('viz', 'RB'), ('.', '.'), ('2017', 'CD'), (',', ','), ('2018', 'CD'), ('and', 'CC'), ('2019', 'CD'), ('.', '.'), ('The', 'DT'), ('4', 'CD'), ('crore', 'NN'), ('saplings', 'NNS'), ('for', 'IN'), ('the', 'DT'), ('year', 'NN'), ('2017', 'CD'), ('will', 'MD'), ('be', 'VB'), ('planted', 'VBN'), ('during', 'IN'), ('the', 'DT'), ('Vanmohotsav', 'NNP'), (',', ','), ('July', 'NNP'), ('1st', 'CD'), ('to', 'TO'), ('July', 'NNP'), ('7th', 'CD'), ('in', 'IN'), ('a', 'DT'), ('state-wide', 'JJ'), ('drive', 'NN'), ('with', 'IN'), ('the', 'DT'), ('involvement', 'NN'), ('of', 'IN'), ('33', 'CD'), ('government', 'NN'), ('departments', 'NNS'), ('along', 'IN'), ('with', 'IN'), ('Students', 'NNS'), ('of', 'IN'), ('Schools', 'NNP'), ('and', 'CC'), ('Colleges', 'NNP'), (',', ','), ('NSS', 'NNP'), (',', ','), ('NCC', 'NNP'), (',', ','), ('CSR', 'NNP'), (',', ','), ('NGOs', 'NNP'), (',', ','), ('Railways', 'NNP'), (',', ','), ('National', 'NNP'), ('Highways', 'NNP'), (',', ','), ('Defence', 'NNP'), (',', ','), ('NABARD', 'NNP'), ('and', 'CC'), ('other', 'JJ'), ('stakeholders', 'NNS'), ('of', 'IN'), ('Society', 'NNP'), ('.', '.'), ('In', 'IN'), ('a', 'DT'), ('first', 'JJ'), ('of', 'IN'), ('its', 'PRP$'), ('kind', 'NN'), (',', ','), ('a', 'DT'), ('24-hour', 'JJ'), ('toll', 'NN'), ('free', 'JJ'), ('helpline', 'NN'), ('number', 'NN'), ('1926', 'CD'), ('called', 'VBD'), ('‘', 'NNP'), ('Hello', 'NNP'), ('Forest', 'NNP'), ('’', 'NN'), ('has', 'VBZ'), ('been', 'VBN'), ('set', 'VBN'), ('up', 'RP'), ('to', 'TO'), ('provide', 'VB'), ('information', 'NN'), ('regarding', 'VBG'), ('plantation', 'NN'), (',', ','), ('protection', 'NN'), ('and', 'CC'), ('for', 'IN'), ('mass', 'NN'), ('awareness', 'NN'), ('.', '.'), ('The', 'DT'), ('Forest', 'NNP'), ('Department', 'NNP'), ('has', 'VBZ'), ('created', 'VBN'), ('a', 'DT'), ('mobile', 'JJ'), ('application', 'NN'), ('called', 'VBN'), ('‘', 'NNP'), ('My', 'PRP$'), ('Plants', 'NNS'), ('’', 'VBP'), ('to', 'TO'), ('record', 'VB'), ('details', 'NNS'), ('of', 'IN'), ('the', 'DT'), ('plantation', 'NN'), ('such', 'JJ'), ('as', 'IN'), ('numbers', 'NNS'), (',', ','), ('species', 'NNS'), ('and', 'CC'), ('location', 'NN'), ('into', 'IN'), ('the', 'DT'), ('computer', 'NN'), ('system', 'NN'), ('of', 'IN'), ('the', 'DT'), ('Forest', 'NNP'), ('Department', 'NNP'), ('.', '.'), ('All', 'DT'), ('volunteers', 'NNS'), ('at', 'IN'), ('individual', 'JJ'), (',', ','), ('collective', 'JJ'), ('and', 'CC'), ('organizational', 'JJ'), ('level', 'NN'), ('should', 'MD'), ('download', 'VB'), ('and', 'CC'), ('use', 'VB'), ('this', 'DT'), ('application', 'NN'), ('to', 'TO'), ('record', 'VB'), ('their', 'PRP$'), ('tree', 'JJ'), ('plantation', 'NN'), ('work', 'NN'), ('through', 'IN'), ('the', 'DT'), ('application', 'NN'), (',', ','), ('which', 'WDT'), ('will', 'MD'), ('be', 'VB'), ('operational', 'JJ'), ('from', 'IN'), ('1st', 'CD'), ('July', 'NNP'), ('to', 'TO'), ('7th', 'CD'), ('July', 'NNP'), ('.', '.'), ('In', 'IN'), ('consonance', 'NN'), ('of', 'IN'), ('the', 'DT'), ('public', 'JJ'), ('participation', 'NN'), (',', ','), ('the', 'DT'), ('Maharashtra', 'NNP'), ('Forest', 'NNP'), ('Department', 'NNP'), ('has', 'VBZ'), ('initiated', 'VBN'), ('the', 'DT'), ('‘', 'NNP'), ('Maharashtra', 'NNP'), ('Harit', 'NNP'), ('Sena', 'NNP'), ('’', 'NNP'), ('/', 'NNP'), ('‘', 'NNP'), ('Green', 'NNP'), ('Army', 'NNP'), ('’', 'NNP'), ('which', 'WDT'), ('is', 'VBZ'), ('a', 'DT'), ('body', 'NN'), ('of', 'IN'), ('dedicated', 'JJ'), ('volunteers', 'NNS'), ('to', 'TO'), ('participate', 'VB'), ('in', 'IN'), ('the', 'DT'), ('plantation', 'NN'), (',', ','), ('protection', 'NN'), (',', ','), ('and', 'CC'), ('activities', 'NNS'), ('in', 'IN'), ('forest', 'NN'), (',', ','), ('wildlife', 'NN'), (',', ','), ('and', 'CC'), ('related', 'JJ'), ('sectors', 'NNS'), ('around', 'IN'), ('the', 'DT'), ('year', 'NN'), ('.', '.'), ('Individuals', 'NNS'), ('and', 'CC'), ('organisations', 'NNS'), ('interested', 'JJ'), ('in', 'IN'), ('volunteering', 'VBG'), ('can', 'MD'), ('register', 'VB'), ('on', 'IN'), ('the', 'DT'), ('Green', 'JJ'), ('Army', 'NNP'), ('website', 'NN'), ('www.greenarmy.mahaforest.gov.in', 'VBD'), ('An', 'DT'), ('integrated', 'VBN'), ('drive', 'NN'), ('has', 'VBZ'), ('been', 'VBN'), ('set', 'VBN'), ('in', 'IN'), ('place', 'NN'), ('to', 'TO'), ('ensure', 'VB'), ('seamless', 'NN'), ('and', 'CC'), ('successful', 'JJ'), ('participation', 'NN'), ('from', 'IN'), ('all', 'DT'), ('stakeholders', 'NNS'), ('of', 'IN'), ('society', 'NN'), (',', ','), ('especially', 'RB'), ('the', 'DT'), ('public', 'NN'), ('.', '.')]\n"
     ]
    }
   ],
   "source": [
    "tagged = nltk.pos_tag(word_tokens, lang='eng')\n",
    "print(tagged)\n"
   ]
  },
  {
   "cell_type": "markdown",
   "id": "795019c3",
   "metadata": {},
   "source": [
    "# Stemming\n",
    "\n",
    " Stemming means reducing a word to its base or root form. For example, the words \"running\", \"ran\", and \"runner\" can all be reduced to the root word \"run\". Stemming is often used in information retrieval and natural language processing tasks to improve the performance of algorithms by reducing the number of unique words in a dataset. However, stemming can sometimes result in words that are not actual words in the language, so it is important to use it judiciously."
   ]
  },
  {
   "cell_type": "code",
   "execution_count": 91,
   "id": "63ff7bd5",
   "metadata": {},
   "outputs": [
    {
     "name": "stdout",
     "output_type": "stream",
     "text": [
      "['between', '2016', 'and', '2019', ',', 'the', 'state', 'forest', 'depart', 'under', 'the', 'bjp', 'govern', 'had', 'launch', '‘', 'green', 'maharashtra', '’', 'drive', 'with', 'an', 'aim', 'to', 'plant', '50', 'crore', 'tree', 'across', 'the', 'state', 'in', 'the', 'four-year', 'period', '.', 'in', 'octob', '2019', ',', 'the', 'govern', 'had', 'claim', 'it', 'had', 'surpass', 'the', 'target', 'by', 'plant', '33', 'crore', 'tree', 'in', 'july-septemb', '2019', '.', 'the', 'indian', 'express', 'had', 'found', 'that', 'non-forest', 'agenc', '—', 'such', 'as', 'gram', 'panchayat', '—', 'which', 'were', 'task', 'with', 'plant', 'tree', 'had', 'not', 'upload', 'the', 'mandatori', 'audio-visu', 'proof', 'of', 'the', 'tree', 'plantat', 'drive', 'on', 'the', 'special', 'creat', 'portal', '.', 'in', 'pune', 'revenu', 'divis', ',', 'it', 'wa', 'claim', 'the', 'gram', 'panchayat', 'plant', '1.7', 'crore', 'sapl', ';', 'howev', ',', 'no', 'evid', 'wa', 'upload', 'for', '87', 'per', 'cent', '(', '1.49', 'crore', ')', 'sapl', '.', 'also', ',', 'out', 'of', 'the', '59', 'govern', 'agenc', 'involv', 'in', 'the', 'drive', 'as', 'mani', 'as', '38', 'had', 'not', 'submit', 'surviv', 'report', 'about', 'the', 'sapl', '.', 'thi', 'year', ',', 'the', 'target', 'set', 'by', 'the', 'forest', 'depart', 'were', 'compar', 'modest', '.', 'for', 'exampl', ',', 'pune', 'circl', '—', 'which', 'compris', 'three', 'divis', 'in', 'pune', 'and', 'solapur', 'district', '—', 'had', 'plan', 'to', 'plant', '17', 'lakh', 'sapl', 'on', 'forest', 'land', '.', 'howev', ',', 'it', 'may', 'not', 'meet', 'the', 'target', 'due', 'to', 'unavail', 'of', 'fund', '.', 'last', 'year', 'pune', 'circl', 'plant', '70', 'lakh', 'sapl', 'on', 'forest', 'land', '.', 'in', 'pune', 'divis', '—', 'which', 'compris', 'six', 'taluka', 'name', 'maval', ',', 'mulshi', ',', 'daund', ',', 'indapur', ',', 'baramati', 'and', 'havv', '—', 'prepar', 'were', 'done', 'for', 'plantat', 'of', 'about', '4', 'lakh', 'tree', 'with', 'special', 'emphasi', 'on', 'teakwood', '.', 'the', 'nation', 'forest', 'polici', 'aim', 'and', 'emphas', 'at', 'maintain', '33', '%', 'of', 'the', 'countri', '’', 's', 'geograph', 'area', 'under', 'forest', 'and', 'green', 'cover', '.', 'in', 'view', 'of', 'thi', 'and', 'as', 'a', 'part', 'of', 'the', '50', 'crore', 'plantat', 'programm', 'within', 'maharashtra', ',', 'the', 'maharashtra', 'forest', 'depart', 'aim', 'to', 'plant', '4', 'crore', 'sapl', 'all', 'over', 'the', 'state', 'between', '1st', 'to', 'juli', '7th', ',', '2017', 'to', 'celebr', '‘', 'vanmohotsav', '’', '.', 'the', 'plantat', 'programm', ',', 'which', 'wa', 'announc', 'in', '2016', 'with', 'the', 'aim', 'of', 'plant', '2', 'crore', 'tree', 'on', '1st', 'juli', '2016', 'wa', 'a', 'resound', 'success', 'with', 'the', 'final', 'total', 'report', 'figur', 'of', '2.82', 'crore', 'sapl', 'plant', 'on', 'a', 'singl', 'day', '.', 'to', 'maintain', 'consist', 'of', 'thi', 'platform', 'without', 'affect', 'it', 'momentum', ',', 'the', 'forest', 'depart', 'ha', 'set', 'the', 'target', 'of', 'plantat', 'of', '4', 'crore', ',', '13', 'crore', 'and', '33', 'crore', 'sapl', 'under', 'the', 'mission', 'of', '50', 'crore', 'plantat', 'which', 'shall', 'be', 'accomplish', 'in', 'the', 'three', 'consecut', 'year', 'viz', '.', '2017', ',', '2018', 'and', '2019', '.', 'the', '4', 'crore', 'sapl', 'for', 'the', 'year', '2017', 'will', 'be', 'plant', 'dure', 'the', 'vanmohotsav', ',', 'juli', '1st', 'to', 'juli', '7th', 'in', 'a', 'state-wid', 'drive', 'with', 'the', 'involv', 'of', '33', 'govern', 'depart', 'along', 'with', 'student', 'of', 'school', 'and', 'colleg', ',', 'nss', ',', 'ncc', ',', 'csr', ',', 'ngo', ',', 'railway', ',', 'nation', 'highway', ',', 'defenc', ',', 'nabard', 'and', 'other', 'stakehold', 'of', 'societi', '.', 'in', 'a', 'first', 'of', 'it', 'kind', ',', 'a', '24-hour', 'toll', 'free', 'helplin', 'number', '1926', 'call', '‘', 'hello', 'forest', '’', 'ha', 'been', 'set', 'up', 'to', 'provid', 'inform', 'regard', 'plantat', ',', 'protect', 'and', 'for', 'mass', 'awar', '.', 'the', 'forest', 'depart', 'ha', 'creat', 'a', 'mobil', 'applic', 'call', '‘', 'my', 'plant', '’', 'to', 'record', 'detail', 'of', 'the', 'plantat', 'such', 'as', 'number', ',', 'speci', 'and', 'locat', 'into', 'the', 'comput', 'system', 'of', 'the', 'forest', 'depart', '.', 'all', 'volunt', 'at', 'individu', ',', 'collect', 'and', 'organiz', 'level', 'should', 'download', 'and', 'use', 'thi', 'applic', 'to', 'record', 'their', 'tree', 'plantat', 'work', 'through', 'the', 'applic', ',', 'which', 'will', 'be', 'oper', 'from', '1st', 'juli', 'to', '7th', 'juli', '.', 'in', 'conson', 'of', 'the', 'public', 'particip', ',', 'the', 'maharashtra', 'forest', 'depart', 'ha', 'initi', 'the', '‘', 'maharashtra', 'harit', 'sena', '’', '/', '‘', 'green', 'armi', '’', 'which', 'is', 'a', 'bodi', 'of', 'dedic', 'volunt', 'to', 'particip', 'in', 'the', 'plantat', ',', 'protect', ',', 'and', 'activ', 'in', 'forest', ',', 'wildlif', ',', 'and', 'relat', 'sector', 'around', 'the', 'year', '.', 'individu', 'and', 'organis', 'interest', 'in', 'volunt', 'can', 'regist', 'on', 'the', 'green', 'armi', 'websit', 'www.greenarmy.mahaforest.gov.in', 'an', 'integr', 'drive', 'ha', 'been', 'set', 'in', 'place', 'to', 'ensur', 'seamless', 'and', 'success', 'particip', 'from', 'all', 'stakehold', 'of', 'societi', ',', 'especi', 'the', 'public', '.']\n"
     ]
    }
   ],
   "source": [
    "stemmer = nltk.stem.PorterStemmer()\n",
    "\n",
    "stemmed_tokens = []\n",
    "for token in word_tokens:\n",
    "    stemmed_tokens.append(stemmer.stem(token))\n",
    "\n",
    "print(stemmed_tokens)\n"
   ]
  },
  {
   "cell_type": "markdown",
   "id": "f05d1989",
   "metadata": {},
   "source": [
    "# Lemmatization\n",
    "Lemmatization means to reduce a word to its base or root form. For example, the word \"running\" would be lemmatized to \"run\"."
   ]
  },
  {
   "cell_type": "code",
   "execution_count": 98,
   "id": "91cffbf3",
   "metadata": {},
   "outputs": [
    {
     "name": "stdout",
     "output_type": "stream",
     "text": [
      "['Between', '2016', 'and', '2019', ',', 'the', 'state', 'forest', 'department', 'under', 'the', 'BJP', 'government', 'had', 'launched', '‘', 'Green', 'Maharashtra', '’', 'drive', 'with', 'an', 'aim', 'to', 'plant', '50', 'crore', 'tree', 'across', 'the', 'state', 'in', 'the', 'four-year', 'period', '.', 'In', 'October', '2019', ',', 'the', 'government', 'had', 'claimed', 'it', 'had', 'surpassed', 'the', 'target', 'by', 'planting', '33', 'crore', 'tree', 'in', 'July-September', '2019', '.', 'The', 'Indian', 'Express', 'had', 'found', 'that', 'non-forest', 'agency', '—', 'such', 'a', 'gram', 'panchayat', '—', 'which', 'were', 'tasked', 'with', 'planting', 'tree', 'had', 'not', 'uploaded', 'the', 'mandatory', 'audio-visual', 'proof', 'of', 'the', 'tree', 'plantation', 'drive', 'on', 'the', 'specially', 'created', 'portal', '.', 'In', 'Pune', 'Revenue', 'Division', ',', 'it', 'wa', 'claimed', 'the', 'gram', 'panchayat', 'planted', '1.7', 'crore', 'sapling', ';', 'however', ',', 'no', 'evidence', 'wa', 'uploaded', 'for', '87', 'per', 'cent', '(', '1.49', 'crore', ')', 'sapling', '.', 'Also', ',', 'out', 'of', 'the', '59', 'government', 'agency', 'involved', 'in', 'the', 'drive', 'a', 'many', 'a', '38', 'had', 'not', 'submitted', 'survival', 'report', 'about', 'the', 'sapling', '.', 'This', 'year', ',', 'the', 'target', 'set', 'by', 'the', 'forest', 'department', 'were', 'comparatively', 'modest', '.', 'For', 'example', ',', 'Pune', 'Circle', '—', 'which', 'comprises', 'three', 'division', 'in', 'Pune', 'and', 'Solapur', 'district', '—', 'had', 'planned', 'to', 'plant', '17', 'lakh', 'sapling', 'on', 'forest', 'land', '.', 'However', ',', 'it', 'may', 'not', 'meet', 'the', 'target', 'due', 'to', 'unavailability', 'of', 'fund', '.', 'Last', 'year', 'Pune', 'Circle', 'planted', '70', 'lakh', 'sapling', 'on', 'forest', 'land', '.', 'In', 'Pune', 'Division', '—', 'which', 'comprises', 'six', 'talukas', 'namely', 'Maval', ',', 'Mulshi', ',', 'Daund', ',', 'Indapur', ',', 'Baramati', 'and', 'Havveli', '—', 'preparation', 'were', 'done', 'for', 'plantation', 'of', 'about', '4', 'lakh', 'tree', 'with', 'special', 'emphasis', 'on', 'teakwood', '.', 'The', 'National', 'Forest', 'Policy', 'aim', 'and', 'emphasizes', 'at', 'maintaining', '33', '%', 'of', 'the', 'country', '’', 's', 'geographical', 'area', 'under', 'forest', 'and', 'green', 'cover', '.', 'In', 'view', 'of', 'this', 'and', 'a', 'a', 'part', 'of', 'the', '50', 'crore', 'plantation', 'programme', 'within', 'Maharashtra', ',', 'the', 'Maharashtra', 'Forest', 'Department', 'aim', 'to', 'plant', '4', 'crore', 'sapling', 'all', 'over', 'the', 'State', 'between', '1st', 'to', 'July', '7th', ',', '2017', 'to', 'celebrate', '‘', 'Vanmohotsav', '’', '.', 'The', 'plantation', 'programme', ',', 'which', 'wa', 'announced', 'in', '2016', 'with', 'the', 'aim', 'of', 'planting', '2', 'crore', 'tree', 'on', '1st', 'July', '2016', 'wa', 'a', 'resounding', 'success', 'with', 'the', 'final', 'total', 'reported', 'figure', 'of', '2.82', 'crore', 'sapling', 'planted', 'on', 'a', 'single', 'day', '.', 'To', 'maintain', 'consistency', 'of', 'this', 'platform', 'without', 'affecting', 'it', 'momentum', ',', 'the', 'Forest', 'Department', 'ha', 'set', 'the', 'target', 'of', 'plantation', 'of', '4', 'crore', ',', '13', 'crore', 'and', '33', 'crore', 'sapling', 'under', 'the', 'mission', 'of', '50', 'crore', 'plantation', 'which', 'shall', 'be', 'accomplished', 'in', 'the', 'three', 'consecutive', 'year', 'viz', '.', '2017', ',', '2018', 'and', '2019', '.', 'The', '4', 'crore', 'sapling', 'for', 'the', 'year', '2017', 'will', 'be', 'planted', 'during', 'the', 'Vanmohotsav', ',', 'July', '1st', 'to', 'July', '7th', 'in', 'a', 'state-wide', 'drive', 'with', 'the', 'involvement', 'of', '33', 'government', 'department', 'along', 'with', 'Students', 'of', 'Schools', 'and', 'Colleges', ',', 'NSS', ',', 'NCC', ',', 'CSR', ',', 'NGOs', ',', 'Railways', ',', 'National', 'Highways', ',', 'Defence', ',', 'NABARD', 'and', 'other', 'stakeholder', 'of', 'Society', '.', 'In', 'a', 'first', 'of', 'it', 'kind', ',', 'a', '24-hour', 'toll', 'free', 'helpline', 'number', '1926', 'called', '‘', 'Hello', 'Forest', '’', 'ha', 'been', 'set', 'up', 'to', 'provide', 'information', 'regarding', 'plantation', ',', 'protection', 'and', 'for', 'mass', 'awareness', '.', 'The', 'Forest', 'Department', 'ha', 'created', 'a', 'mobile', 'application', 'called', '‘', 'My', 'Plants', '’', 'to', 'record', 'detail', 'of', 'the', 'plantation', 'such', 'a', 'number', ',', 'specie', 'and', 'location', 'into', 'the', 'computer', 'system', 'of', 'the', 'Forest', 'Department', '.', 'All', 'volunteer', 'at', 'individual', ',', 'collective', 'and', 'organizational', 'level', 'should', 'download', 'and', 'use', 'this', 'application', 'to', 'record', 'their', 'tree', 'plantation', 'work', 'through', 'the', 'application', ',', 'which', 'will', 'be', 'operational', 'from', '1st', 'July', 'to', '7th', 'July', '.', 'In', 'consonance', 'of', 'the', 'public', 'participation', ',', 'the', 'Maharashtra', 'Forest', 'Department', 'ha', 'initiated', 'the', '‘', 'Maharashtra', 'Harit', 'Sena', '’', '/', '‘', 'Green', 'Army', '’', 'which', 'is', 'a', 'body', 'of', 'dedicated', 'volunteer', 'to', 'participate', 'in', 'the', 'plantation', ',', 'protection', ',', 'and', 'activity', 'in', 'forest', ',', 'wildlife', ',', 'and', 'related', 'sector', 'around', 'the', 'year', '.', 'Individuals', 'and', 'organisation', 'interested', 'in', 'volunteering', 'can', 'register', 'on', 'the', 'Green', 'Army', 'website', 'www.greenarmy.mahaforest.gov.in', 'An', 'integrated', 'drive', 'ha', 'been', 'set', 'in', 'place', 'to', 'ensure', 'seamless', 'and', 'successful', 'participation', 'from', 'all', 'stakeholder', 'of', 'society', ',', 'especially', 'the', 'public', '.']\n"
     ]
    }
   ],
   "source": [
    "lemmatizer = nltk.stem.WordNetLemmatizer()\n",
    "\n",
    "\n",
    "lemmatized_tokens = []\n",
    "for token in word_tokens:\n",
    "    lemmatized_tokens.append(lemmatizer.lemmatize(token))\n",
    "\n",
    "print(lemmatized_tokens)\n"
   ]
  },
  {
   "cell_type": "markdown",
   "id": "50de2a9b",
   "metadata": {},
   "source": [
    "# Term Frequency \n",
    "Trem Frequency means the number of times a word appears in a document \n",
    "\n",
    "Term Frequency = (Number of times term t appears in a document) / (Total number of terms in the document)\n"
   ]
  },
  {
   "cell_type": "code",
   "execution_count": null,
   "id": "7a51987e",
   "metadata": {},
   "outputs": [
    {
     "name": "stdout",
     "output_type": "stream",
     "text": [
      "Term Frequency of Doc 1:  {'Between': 0.0033783783783783786, '2016': 0.010135135135135136, 'and': 0.060810810810810814, '2019': 0.013513513513513514, ',': 0.12837837837837837, 'the': 0.13513513513513514, 'state': 0.006756756756756757, 'forest': 0.02027027027027027, 'department': 0.006756756756756757, 'under': 0.010135135135135136, 'BJP': 0.0033783783783783786, 'government': 0.013513513513513514, 'had': 0.02364864864864865, 'launched': 0.0033783783783783786, '‘': 0.02027027027027027, 'Green': 0.010135135135135136, 'Maharashtra': 0.016891891891891893, '’': 0.02364864864864865, 'drive': 0.013513513513513514, 'with': 0.02364864864864865, 'an': 0.0033783783783783786, 'aim': 0.006756756756756757, 'to': 0.04391891891891892, 'plant': 0.010135135135135136, '50': 0.010135135135135136, 'crore': 0.04391891891891892, 'trees': 0.016891891891891893, 'across': 0.0033783783783783786, 'in': 0.037162162162162164, 'four-year': 0.0033783783783783786, 'period': 0.0033783783783783786, '.': 0.07094594594594594, 'In': 0.02027027027027027, 'October': 0.0033783783783783786, 'claimed': 0.006756756756756757, 'it': 0.010135135135135136, 'surpassed': 0.0033783783783783786, 'target': 0.010135135135135136, 'by': 0.006756756756756757, 'planting': 0.010135135135135136, '33': 0.013513513513513514, 'July-September': 0.0033783783783783786, 'The': 0.016891891891891893, 'Indian': 0.0033783783783783786, 'Express': 0.0033783783783783786, 'found': 0.0033783783783783786, 'that': 0.0033783783783783786, 'non-forest': 0.0033783783783783786, 'agencies': 0.006756756756756757, '—': 0.02027027027027027, 'such': 0.006756756756756757, 'as': 0.016891891891891893, 'gram': 0.006756756756756757, 'panchayats': 0.006756756756756757, 'which': 0.02364864864864865, 'were': 0.010135135135135136, 'tasked': 0.0033783783783783786, 'not': 0.010135135135135136, 'uploaded': 0.006756756756756757, 'mandatory': 0.0033783783783783786, 'audio-visual': 0.0033783783783783786, 'proof': 0.0033783783783783786, 'of': 0.07432432432432433, 'tree': 0.006756756756756757, 'plantation': 0.033783783783783786, 'drives': 0.0033783783783783786, 'on': 0.02364864864864865, 'specially': 0.0033783783783783786, 'created': 0.006756756756756757, 'portal': 0.0033783783783783786, 'Pune': 0.016891891891891893, 'Revenue': 0.0033783783783783786, 'Division': 0.006756756756756757, 'was': 0.013513513513513514, 'planted': 0.013513513513513514, '1.7': 0.0033783783783783786, 'saplings': 0.030405405405405407, ';': 0.0033783783783783786, 'however': 0.0033783783783783786, 'no': 0.0033783783783783786, 'evidence': 0.0033783783783783786, 'for': 0.013513513513513514, '87': 0.0033783783783783786, 'per': 0.0033783783783783786, 'cent': 0.0033783783783783786, '(': 0.0033783783783783786, '1.49': 0.0033783783783783786, ')': 0.0033783783783783786, 'Also': 0.0033783783783783786, 'out': 0.0033783783783783786, '59': 0.0033783783783783786, 'involved': 0.0033783783783783786, 'many': 0.0033783783783783786, '38': 0.0033783783783783786, 'submitted': 0.0033783783783783786, 'survival': 0.0033783783783783786, 'reports': 0.0033783783783783786, 'about': 0.006756756756756757, 'This': 0.0033783783783783786, 'year': 0.013513513513513514, 'targets': 0.0033783783783783786, 'set': 0.013513513513513514, 'comparatively': 0.0033783783783783786, 'modest': 0.0033783783783783786, 'For': 0.0033783783783783786, 'example': 0.0033783783783783786, 'Circle': 0.006756756756756757, 'comprises': 0.006756756756756757, 'three': 0.006756756756756757, 'divisions': 0.0033783783783783786, 'Solapur': 0.0033783783783783786, 'district': 0.0033783783783783786, 'planned': 0.0033783783783783786, '17': 0.0033783783783783786, 'lakh': 0.010135135135135136, 'land': 0.006756756756756757, 'However': 0.0033783783783783786, 'may': 0.0033783783783783786, 'meet': 0.0033783783783783786, 'due': 0.0033783783783783786, 'unavailability': 0.0033783783783783786, 'funds': 0.0033783783783783786, 'Last': 0.0033783783783783786, '70': 0.0033783783783783786, 'six': 0.0033783783783783786, 'talukas': 0.0033783783783783786, 'namely': 0.0033783783783783786, 'Maval': 0.0033783783783783786, 'Mulshi': 0.0033783783783783786, 'Daund': 0.0033783783783783786, 'Indapur': 0.0033783783783783786, 'Baramati': 0.0033783783783783786, 'Havveli': 0.0033783783783783786, 'preparations': 0.0033783783783783786, 'done': 0.0033783783783783786, '4': 0.013513513513513514, 'special': 0.0033783783783783786, 'emphasis': 0.0033783783783783786, 'teakwood': 0.0033783783783783786, 'National': 0.006756756756756757, 'Forest': 0.02364864864864865, 'Policy': 0.0033783783783783786, 'aims': 0.006756756756756757, 'emphasizes': 0.0033783783783783786, 'at': 0.006756756756756757, 'maintaining': 0.0033783783783783786, '%': 0.0033783783783783786, 'country': 0.0033783783783783786, 's': 0.0033783783783783786, 'geographical': 0.0033783783783783786, 'area': 0.0033783783783783786, 'green': 0.0033783783783783786, 'cover': 0.0033783783783783786, 'view': 0.0033783783783783786, 'this': 0.010135135135135136, 'a': 0.02702702702702703, 'part': 0.0033783783783783786, 'programme': 0.006756756756756757, 'within': 0.0033783783783783786, 'Department': 0.016891891891891893, 'all': 0.006756756756756757, 'over': 0.0033783783783783786, 'State': 0.0033783783783783786, 'between': 0.0033783783783783786, '1st': 0.013513513513513514, 'July': 0.02027027027027027, '7th': 0.010135135135135136, '2017': 0.010135135135135136, 'celebrate': 0.0033783783783783786, 'Vanmohotsav': 0.006756756756756757, 'announced': 0.0033783783783783786, '2': 0.0033783783783783786, 'resounding': 0.0033783783783783786, 'success': 0.0033783783783783786, 'final': 0.0033783783783783786, 'total': 0.0033783783783783786, 'reported': 0.0033783783783783786, 'figure': 0.0033783783783783786, '2.82': 0.0033783783783783786, 'single': 0.0033783783783783786, 'day': 0.0033783783783783786, 'To': 0.0033783783783783786, 'maintain': 0.0033783783783783786, 'consistency': 0.0033783783783783786, 'platform': 0.0033783783783783786, 'without': 0.0033783783783783786, 'affecting': 0.0033783783783783786, 'its': 0.006756756756756757, 'momentum': 0.0033783783783783786, 'has': 0.016891891891891893, '13': 0.0033783783783783786, 'mission': 0.0033783783783783786, 'shall': 0.0033783783783783786, 'be': 0.010135135135135136, 'accomplished': 0.0033783783783783786, 'consecutive': 0.0033783783783783786, 'years': 0.0033783783783783786, 'viz': 0.0033783783783783786, '2018': 0.0033783783783783786, 'will': 0.006756756756756757, 'during': 0.0033783783783783786, 'state-wide': 0.0033783783783783786, 'involvement': 0.0033783783783783786, 'departments': 0.0033783783783783786, 'along': 0.0033783783783783786, 'Students': 0.0033783783783783786, 'Schools': 0.0033783783783783786, 'Colleges': 0.0033783783783783786, 'NSS': 0.0033783783783783786, 'NCC': 0.0033783783783783786, 'CSR': 0.0033783783783783786, 'NGOs': 0.0033783783783783786, 'Railways': 0.0033783783783783786, 'Highways': 0.0033783783783783786, 'Defence': 0.0033783783783783786, 'NABARD': 0.0033783783783783786, 'other': 0.0033783783783783786, 'stakeholders': 0.006756756756756757, 'Society': 0.0033783783783783786, 'first': 0.0033783783783783786, 'kind': 0.0033783783783783786, '24-hour': 0.0033783783783783786, 'toll': 0.0033783783783783786, 'free': 0.0033783783783783786, 'helpline': 0.0033783783783783786, 'number': 0.0033783783783783786, '1926': 0.0033783783783783786, 'called': 0.006756756756756757, 'Hello': 0.0033783783783783786, 'been': 0.006756756756756757, 'up': 0.0033783783783783786, 'provide': 0.0033783783783783786, 'information': 0.0033783783783783786, 'regarding': 0.0033783783783783786, 'protection': 0.006756756756756757, 'mass': 0.0033783783783783786, 'awareness': 0.0033783783783783786, 'mobile': 0.0033783783783783786, 'application': 0.010135135135135136, 'My': 0.0033783783783783786, 'Plants': 0.0033783783783783786, 'record': 0.006756756756756757, 'details': 0.0033783783783783786, 'numbers': 0.0033783783783783786, 'species': 0.0033783783783783786, 'location': 0.0033783783783783786, 'into': 0.0033783783783783786, 'computer': 0.0033783783783783786, 'system': 0.0033783783783783786, 'All': 0.0033783783783783786, 'volunteers': 0.006756756756756757, 'individual': 0.0033783783783783786, 'collective': 0.0033783783783783786, 'organizational': 0.0033783783783783786, 'level': 0.0033783783783783786, 'should': 0.0033783783783783786, 'download': 0.0033783783783783786, 'use': 0.0033783783783783786, 'their': 0.0033783783783783786, 'work': 0.0033783783783783786, 'through': 0.0033783783783783786, 'operational': 0.0033783783783783786, 'from': 0.006756756756756757, 'consonance': 0.0033783783783783786, 'public': 0.006756756756756757, 'participation': 0.006756756756756757, 'initiated': 0.0033783783783783786, 'Harit': 0.0033783783783783786, 'Sena': 0.0033783783783783786, '/': 0.0033783783783783786, 'Army': 0.006756756756756757, 'is': 0.0033783783783783786, 'body': 0.0033783783783783786, 'dedicated': 0.0033783783783783786, 'participate': 0.0033783783783783786, 'activities': 0.0033783783783783786, 'wildlife': 0.0033783783783783786, 'related': 0.0033783783783783786, 'sectors': 0.0033783783783783786, 'around': 0.0033783783783783786, 'Individuals': 0.0033783783783783786, 'organisations': 0.0033783783783783786, 'interested': 0.0033783783783783786, 'volunteering': 0.0033783783783783786, 'can': 0.0033783783783783786, 'register': 0.0033783783783783786, 'website': 0.0033783783783783786, 'www.greenarmy.mahaforest.gov.in': 0.0033783783783783786, 'An': 0.0033783783783783786, 'integrated': 0.0033783783783783786, 'place': 0.0033783783783783786, 'ensure': 0.0033783783783783786, 'seamless': 0.0033783783783783786, 'successful': 0.0033783783783783786, 'society': 0.0033783783783783786, 'especially': 0.0033783783783783786} \n",
      "\n",
      "Term Frequency of Doc 2:  {'Millions': 0.004807692307692308, 'of': 0.0673076923076923, 'people': 0.004807692307692308, 'in': 0.052884615384615384, 'India': 0.019230769230769232, 'took': 0.004807692307692308, 'part': 0.004807692307692308, 'an': 0.014423076923076924, 'annual': 0.009615384615384616, 'tree': 0.019230769230769232, 'planting': 0.009615384615384616, 'drive': 0.009615384615384616, 'Sunday': 0.004807692307692308, '.': 0.08653846153846154, 'More': 0.004807692307692308, 'than': 0.004807692307692308, '250': 0.004807692307692308, 'million': 0.009615384615384616, 'saplings': 0.038461538461538464, 'were': 0.014423076923076924, 'planted': 0.019230769230769232, 'a': 0.03365384615384615, 'single': 0.004807692307692308, 'day': 0.004807692307692308, 'across': 0.009615384615384616, 'the': 0.11538461538461539, 'country': 0.009615384615384616, \"'s\": 0.009615384615384616, 'most-populous': 0.004807692307692308, 'state': 0.02403846153846154, 'The': 0.03365384615384615, 'campaign': 0.004807692307692308, 'was': 0.009615384615384616, 'led': 0.004807692307692308, 'by': 0.014423076923076924, 'Uttar': 0.019230769230769232, 'Pradesh': 0.019230769230769232, 'government': 0.019230769230769232, 'officials': 0.009615384615384616, ',': 0.09615384615384616, 'lawmakers': 0.004807692307692308, 'and': 0.038461538461538464, 'activists': 0.004807692307692308, 'bid': 0.004807692307692308, 'to': 0.04807692307692308, 'reduce': 0.004807692307692308, 'carbon': 0.004807692307692308, 'emissions': 0.004807692307692308, 'combat': 0.004807692307692308, 'climate': 0.004807692307692308, 'change': 0.004807692307692308, 'Where': 0.004807692307692308, 'trees': 0.009615384615384616, '?': 0.014423076923076924, 'volunteers': 0.004807692307692308, 'forests': 0.004807692307692308, 'farms': 0.004807692307692308, 'schools': 0.004807692307692308, 'along': 0.004807692307692308, 'riverbanks': 0.004807692307692308, 'highways': 0.004807692307692308, '``': 0.02403846153846154, 'We': 0.004807692307692308, 'are': 0.004807692307692308, 'committed': 0.004807692307692308, 'increasing': 0.004807692307692308, 'forest': 0.02403846153846154, 'cover': 0.02403846153846154, 'over': 0.009615384615384616, '15': 0.004807692307692308, '%': 0.02403846153846154, 'total': 0.009615384615384616, 'land': 0.014423076923076924, 'area': 0.009615384615384616, 'next': 0.004807692307692308, 'five': 0.004807692307692308, 'years': 0.009615384615384616, \"''\": 0.02403846153846154, 'said': 0.02403846153846154, 'official': 0.014423076923076924, 'Manoj': 0.004807692307692308, 'Singh': 0.009615384615384616, 'According': 0.004807692307692308, 'another': 0.004807692307692308, 'has': 0.03365384615384615, 'increased': 0.009615384615384616, 'last': 0.009615384615384616, 'few': 0.004807692307692308, 'There': 0.009615384615384616, 'been': 0.019230769230769232, 'increase': 0.009615384615384616, '127': 0.004807692307692308, 'sqare': 0.009615384615384616, 'kilometers': 0.004807692307692308, '[': 0.004807692307692308, '79': 0.004807692307692308, 'miles': 0.004807692307692308, ']': 0.004807692307692308, 'as': 0.014423076923076924, 'compared': 0.009615384615384616, '2017': 0.004807692307692308, 'spokesperson': 0.004807692307692308, 'quoted': 0.004807692307692308, 'saying': 0.004807692307692308, 'Indian': 0.004807692307692308, 'Express': 0.004807692307692308, 'newspaper': 0.009615384615384616, 'also': 0.004807692307692308, 'plants': 0.004807692307692308, '3.05': 0.004807692307692308, 'national': 0.004807692307692308, 'average': 0.004807692307692308, '2.89': 0.004807692307692308, 'citing': 0.004807692307692308, '2019': 0.004807692307692308, 'Forest': 0.009615384615384616, 'Survey': 0.004807692307692308, 'report': 0.004807692307692308, 'How': 0.004807692307692308, 'many': 0.004807692307692308, 'survive': 0.009615384615384616, 'State': 0.004807692307692308, 'Minister': 0.004807692307692308, 'Dara': 0.004807692307692308, 'long-term': 0.004807692307692308, 'survival': 0.004807692307692308, 'remains': 0.004807692307692308, 'concern': 0.004807692307692308, 'adding': 0.004807692307692308, 'that': 0.019230769230769232, 'usually': 0.004807692307692308, 'only': 0.004807692307692308, '60': 0.004807692307692308, 'rest': 0.004807692307692308, 'succumb': 0.004807692307692308, 'disease': 0.004807692307692308, 'or': 0.014423076923076924, 'lack': 0.004807692307692308, 'water': 0.004807692307692308, 'However': 0.009615384615384616, 'he': 0.009615384615384616, 'about': 0.004807692307692308, '80': 0.004807692307692308, 'four': 0.004807692307692308, 'drives': 0.004807692307692308, 'have': 0.019230769230769232, 'survived': 0.009615384615384616, 'All': 0.004807692307692308, 'regions': 0.004807692307692308, 'where': 0.004807692307692308, 'plantation': 0.009615384615384616, 'is': 0.009615384615384616, 'being': 0.004807692307692308, 'carried': 0.004807692307692308, 'out': 0.004807692307692308, 'geo-tagged': 0.004807692307692308, 'so': 0.009615384615384616, 'we': 0.004807692307692308, 'can': 0.009615384615384616, 'ascertain': 0.004807692307692308, 'what': 0.004807692307692308, 'exactly': 0.004807692307692308, 'happened': 0.004807692307692308, 'Chauhan': 0.004807692307692308, 'told': 0.004807692307692308, 'Pioneer': 0.004807692307692308, 'These': 0.004807692307692308, 'carry': 0.004807692307692308, 'QR': 0.004807692307692308, 'codes': 0.004807692307692308, 'maintain': 0.004807692307692308, 'record': 0.004807692307692308, 'verify': 0.004807692307692308, 'whether': 0.004807692307692308, 'not': 0.004807692307692308, 'Besides': 0.004807692307692308, 'teams': 0.004807692307692308, 'formed': 0.004807692307692308, 'monitor': 0.004807692307692308, 'progress': 0.004807692307692308, 'What': 0.004807692307692308, 'extent': 0.004807692307692308, 'project': 0.004807692307692308, 'vowed': 0.004807692307692308, 'third': 0.004807692307692308, 'its': 0.004807692307692308, '95': 0.004807692307692308, 'hectares': 0.004807692307692308, 'under': 0.004807692307692308, '2030': 0.004807692307692308, 'allocated': 0.004807692307692308, '$': 0.004807692307692308, '6.2': 0.004807692307692308, 'billion': 0.009615384615384616, '(': 0.004807692307692308, '€5.2': 0.004807692307692308, ')': 0.004807692307692308, 'for': 0.004807692307692308, 'tree-planting': 0.004807692307692308, 'industrial': 0.004807692307692308, 'development': 0.004807692307692308, 'rapidly': 0.004807692307692308, 'growing': 0.004807692307692308, 'population': 0.004807692307692308, 'put': 0.004807692307692308, 'further': 0.004807692307692308, 'stress': 0.004807692307692308, 'on': 0.004807692307692308}\n"
     ]
    }
   ],
   "source": [
    "\n",
    "def term_frequency(doc):\n",
    "    word_tokens = nltk.word_tokenize(doc)\n",
    "    tf_dict = dict()\n",
    "    for word in word_tokens:\n",
    "        tf_dict[word] = word_tokens.count(word)\n",
    "        \n",
    "    tf = dict()\n",
    "    for word, count in tf_dict.items():\n",
    "        tf[word] = count/len(tf_dict)\n",
    "    return tf\n",
    "\n",
    "tf_doc1 = term_frequency(doc1)\n",
    "tf_doc2 = term_frequency(doc2)\n",
    "print(\"Term Frequency of Doc 1: \", tf_doc1, \"\\n\")\n",
    "print(\"Term Frequency of Doc 2: \", tf_doc2)"
   ]
  },
  {
   "cell_type": "markdown",
   "id": "a8dfa4c1",
   "metadata": {},
   "source": [
    "# Inverse Document Frequency\n",
    " IDF means Inverse Document Frequency and it is used to measure how important a word is to a document in a collection or corpus.\n",
    "\n",
    " The more documents that contain the word, the less important it is.\n",
    "\n",
    " The IDF of a word is calculated as the logarithm of the total number of documents divided by the number of documents that contain the word.\n",
    " \n",
    " The formula for IDF is:\n",
    " IDF(word) = log_e(Total number of documents / Number of documents containing the word)"
   ]
  },
  {
   "cell_type": "code",
   "execution_count": 87,
   "id": "b6029a41",
   "metadata": {},
   "outputs": [
    {
     "name": "stdout",
     "output_type": "stream",
     "text": [
      "Inverse Document Frequency:  {'organisations': 0.6931471805599453, 'There': 0.6931471805599453, 'riverbanks': 0.6931471805599453, '2016': 0.6931471805599453, 'Pune': 0.6931471805599453, 'My': 0.6931471805599453, 'volunteering': 0.6931471805599453, 'maintain': 0.0, 'Maharashtra': 0.6931471805599453, 'proof': 0.6931471805599453, 'meet': 0.6931471805599453, 'which': 0.6931471805599453, 'part': 0.0, 'where': 0.6931471805599453, 'six': 0.6931471805599453, ';': 0.6931471805599453, 'growing': 0.6931471805599453, 'related': 0.6931471805599453, 'period': 0.6931471805599453, 'between': 0.6931471805599453, 'geographical': 0.6931471805599453, 'Colleges': 0.6931471805599453, 'carried': 0.6931471805599453, '‘': 0.6931471805599453, 'than': 0.6931471805599453, 'he': 0.6931471805599453, 'compared': 0.6931471805599453, 'being': 0.6931471805599453, 'www.greenarmy.mahaforest.gov.in': 0.6931471805599453, 'so': 0.6931471805599453, '[': 0.6931471805599453, 'tasked': 0.6931471805599453, 'such': 0.6931471805599453, 'along': 0.0, '2.82': 0.6931471805599453, 'These': 0.6931471805599453, 'saplings': 0.0, '127': 0.6931471805599453, 'Havveli': 0.6931471805599453, 'disease': 0.6931471805599453, 'NSS': 0.6931471805599453, 'wildlife': 0.6931471805599453, 'comprises': 0.6931471805599453, 'increasing': 0.6931471805599453, 'development': 0.6931471805599453, 'annual': 0.6931471805599453, 'To': 0.6931471805599453, 'emissions': 0.6931471805599453, 'out': 0.0, '87': 0.6931471805599453, '2018': 0.6931471805599453, 'set': 0.6931471805599453, 'Last': 0.6931471805599453, 'We': 0.6931471805599453, 'An': 0.6931471805599453, 'all': 0.6931471805599453, '33': 0.6931471805599453, ',': 0.0, 'Schools': 0.6931471805599453, 'population': 0.6931471805599453, 'green': 0.6931471805599453, 'stress': 0.6931471805599453, 'successful': 0.6931471805599453, 'NABARD': 0.6931471805599453, 'billion': 0.6931471805599453, 'led': 0.6931471805599453, 'put': 0.6931471805599453, 'CSR': 0.6931471805599453, 'ascertain': 0.6931471805599453, 'Maval': 0.6931471805599453, 'year': 0.6931471805599453, 'Revenue': 0.6931471805599453, 'involvement': 0.6931471805599453, 'comparatively': 0.6931471805599453, '1st': 0.6931471805599453, 'funds': 0.6931471805599453, 'verify': 0.6931471805599453, 'plant': 0.6931471805599453, 'drives': 0.0, 'unavailability': 0.6931471805599453, 'record': 0.0, 'country': 0.0, 'campaign': 0.6931471805599453, 'project': 0.6931471805599453, 'total': 0.0, 'Singh': 0.6931471805599453, 'accomplished': 0.6931471805599453, '13': 0.6931471805599453, 'have': 0.6931471805599453, '.': 0.0, 'state': 0.0, 'This': 0.6931471805599453, 'up': 0.6931471805599453, '—': 0.6931471805599453, 'many': 0.0, 'under': 0.0, '70': 0.6931471805599453, 'activists': 0.6931471805599453, 'over': 0.0, 'celebrate': 0.6931471805599453, 'government': 0.0, 'All': 0.0, 'land': 0.0, '2019': 0.0, 'first': 0.6931471805599453, 'spokesperson': 0.6931471805599453, 'Circle': 0.6931471805599453, 'Survey': 0.6931471805599453, 'However': 0.0, 'codes': 0.6931471805599453, 'Mulshi': 0.6931471805599453, 'geo-tagged': 0.6931471805599453, '?': 0.6931471805599453, '``': 0.6931471805599453, 'Hello': 0.6931471805599453, 'public': 0.6931471805599453, 'More': 0.6931471805599453, 'the': 0.0, 'said': 0.6931471805599453, 'preparations': 0.6931471805599453, 'without': 0.6931471805599453, 'National': 0.6931471805599453, 'farms': 0.6931471805599453, 'system': 0.6931471805599453, '3.05': 0.6931471805599453, 'Plants': 0.6931471805599453, '60': 0.6931471805599453, 'Between': 0.6931471805599453, 'a': 0.0, 'not': 0.0, 'national': 0.6931471805599453, 'portal': 0.6931471805599453, 'gram': 0.6931471805599453, 'figure': 0.6931471805599453, 'awareness': 0.6931471805599453, 'Indian': 0.0, 'use': 0.6931471805599453, 'announced': 0.6931471805599453, 'platform': 0.6931471805599453, 'mass': 0.6931471805599453, 'trees': 0.0, 'Solapur': 0.6931471805599453, 'reported': 0.6931471805599453, 'years': 0.0, 'tree-planting': 0.6931471805599453, 'The': 0.0, 'teams': 0.6931471805599453, '2.89': 0.6931471805599453, 'namely': 0.6931471805599453, 'Vanmohotsav': 0.6931471805599453, 'done': 0.6931471805599453, 'website': 0.6931471805599453, 'evidence': 0.6931471805599453, 'maintaining': 0.6931471805599453, 'carbon': 0.6931471805599453, 'panchayats': 0.6931471805599453, 'per': 0.6931471805599453, 'only': 0.6931471805599453, \"''\": 0.6931471805599453, 'can': 0.0, 'reports': 0.6931471805599453, 'momentum': 0.6931471805599453, 'information': 0.6931471805599453, 'targets': 0.6931471805599453, 'Chauhan': 0.6931471805599453, 'details': 0.6931471805599453, 'integrated': 0.6931471805599453, 'change': 0.6931471805599453, 'happened': 0.6931471805599453, 'state-wide': 0.6931471805599453, 'sqare': 0.6931471805599453, 'next': 0.6931471805599453, 'Army': 0.6931471805599453, 'exactly': 0.6931471805599453, 'district': 0.6931471805599453, 'Division': 0.6931471805599453, 'carry': 0.6931471805599453, 'miles': 0.6931471805599453, 'volunteers': 0.0, 'Railways': 0.6931471805599453, 'Millions': 0.6931471805599453, 'succumb': 0.6931471805599453, 'viz': 0.6931471805599453, 'area': 0.0, '1.7': 0.6931471805599453, '2': 0.6931471805599453, 'activities': 0.6931471805599453, 'monitor': 0.6931471805599453, 'four-year': 0.6931471805599453, 'extent': 0.6931471805599453, 'across': 0.0, 'single': 0.0, 'BJP': 0.6931471805599453, '%': 0.0, 'participate': 0.6931471805599453, '24-hour': 0.6931471805599453, 'concern': 0.6931471805599453, 'allocated': 0.6931471805599453, 'average': 0.6931471805599453, 'day': 0.0, 'been': 0.0, 'other': 0.6931471805599453, 'teakwood': 0.6931471805599453, 'mandatory': 0.6931471805599453, 'operational': 0.6931471805599453, 'especially': 0.6931471805599453, 'at': 0.6931471805599453, 'or': 0.6931471805599453, 'India': 0.6931471805599453, 'Students': 0.6931471805599453, 'created': 0.6931471805599453, 'work': 0.6931471805599453, 'official': 0.6931471805599453, 'specially': 0.6931471805599453, 'affecting': 0.6931471805599453, 'survived': 0.6931471805599453, 'ensure': 0.6931471805599453, 'Express': 0.0, 'remains': 0.6931471805599453, 'in': 0.0, 'rest': 0.6931471805599453, '2030': 0.6931471805599453, '79': 0.6931471805599453, 'combat': 0.6931471805599453, 'plants': 0.6931471805599453, 'five': 0.6931471805599453, 'modest': 0.6931471805599453, 'department': 0.6931471805599453, 'consecutive': 0.6931471805599453, 'long-term': 0.6931471805599453, 'within': 0.6931471805599453, 'Minister': 0.6931471805599453, 'survive': 0.6931471805599453, 'this': 0.6931471805599453, 'aims': 0.6931471805599453, 'from': 0.6931471805599453, 'Harit': 0.6931471805599453, 'claimed': 0.6931471805599453, 'are': 0.6931471805599453, 'to': 0.0, 'Policy': 0.6931471805599453, '(': 0.0, 'Daund': 0.6931471805599453, 'emphasizes': 0.6931471805599453, 'protection': 0.6931471805599453, 'an': 0.0, 'committed': 0.6931471805599453, 'forest': 0.0, 'toll': 0.6931471805599453, 'quoted': 0.6931471805599453, '59': 0.6931471805599453, 'July': 0.6931471805599453, 'lack': 0.6931471805599453, 'mobile': 0.6931471805599453, '80': 0.6931471805599453, 'Baramati': 0.6931471805599453, 'as': 0.0, 'uploaded': 0.6931471805599453, 'For': 0.6931471805599453, 'of': 0.0, 'individual': 0.6931471805599453, 'hectares': 0.6931471805599453, 'helpline': 0.6931471805599453, 'drive': 0.0, 'told': 0.6931471805599453, 'agencies': 0.6931471805599453, 'regions': 0.6931471805599453, 'Indapur': 0.6931471805599453, 'planting': 0.0, 'Green': 0.6931471805599453, 'interested': 0.6931471805599453, 'In': 0.6931471805599453, 'few': 0.6931471805599453, 'July-September': 0.6931471805599453, 'planted': 0.0, 'that': 0.0, 'According': 0.6931471805599453, 'lakh': 0.6931471805599453, 'on': 0.0, 'Pioneer': 0.6931471805599453, 'crore': 0.6931471805599453, 'their': 0.6931471805599453, 'tree': 0.0, 'found': 0.6931471805599453, '50': 0.6931471805599453, 'last': 0.6931471805599453, '250': 0.6931471805599453, 'QR': 0.6931471805599453, 'was': 0.0, 'number': 0.6931471805599453, 'vowed': 0.6931471805599453, 'programme': 0.6931471805599453, 'talukas': 0.6931471805599453, 'final': 0.6931471805599453, 'How': 0.6931471805599453, 'regarding': 0.6931471805599453, 'resounding': 0.6931471805599453, 'free': 0.6931471805599453, 'newspaper': 0.6931471805599453, 'emphasis': 0.6931471805599453, 'Individuals': 0.6931471805599453, 'around': 0.6931471805599453, \"'s\": 0.6931471805599453, 'industrial': 0.6931471805599453, 'by': 0.0, 'non-forest': 0.6931471805599453, 'Department': 0.6931471805599453, 'due': 0.6931471805599453, 'has': 0.0, 'society': 0.6931471805599453, 'also': 0.6931471805599453, 'further': 0.6931471805599453, 'Highways': 0.6931471805599453, '$': 0.6931471805599453, 'report': 0.6931471805599453, 'it': 0.6931471805599453, 'third': 0.6931471805599453, 'Forest': 0.0, 'level': 0.6931471805599453, 'Sunday': 0.6931471805599453, 'plantation': 0.0, 'schools': 0.6931471805599453, 'water': 0.6931471805599453, 'kilometers': 0.6931471805599453, 'about': 0.0, 'Where': 0.6931471805599453, 'register': 0.6931471805599453, 'citing': 0.6931471805599453, 'for': 0.0, 'cover': 0.0, 'formed': 0.6931471805599453, 'download': 0.6931471805599453, 'another': 0.6931471805599453, 'progress': 0.6931471805599453, '4': 0.6931471805599453, 'Also': 0.6931471805599453, 'sectors': 0.6931471805599453, 'species': 0.6931471805599453, '1.49': 0.6931471805599453, 'Defence': 0.6931471805599453, 'were': 0.0, 'forests': 0.6931471805599453, 'surpassed': 0.6931471805599453, 'four': 0.6931471805599453, 'three': 0.6931471805599453, 'participation': 0.6931471805599453, 'launched': 0.6931471805599453, 'usually': 0.6931471805599453, 'seamless': 0.6931471805599453, 'Manoj': 0.6931471805599453, 'through': 0.6931471805599453, 'Sena': 0.6931471805599453, 'reduce': 0.6931471805599453, 'Society': 0.6931471805599453, 'involved': 0.6931471805599453, 'audio-visual': 0.6931471805599453, 'departments': 0.6931471805599453, '1926': 0.6931471805599453, ']': 0.6931471805599453, 'mission': 0.6931471805599453, 'we': 0.6931471805599453, 'October': 0.6931471805599453, 'collective': 0.6931471805599453, 'organizational': 0.6931471805599453, 'body': 0.6931471805599453, 'people': 0.6931471805599453, 'cent': 0.6931471805599453, 'is': 0.0, 'shall': 0.6931471805599453, 'should': 0.6931471805599453, 'divisions': 0.6931471805599453, 'Uttar': 0.6931471805599453, 'and': 0.0, 'NGOs': 0.6931471805599453, 'provide': 0.6931471805599453, 'adding': 0.6931471805599453, 'rapidly': 0.6931471805599453, '/': 0.6931471805599453, 'computer': 0.6931471805599453, 's': 0.6931471805599453, 'during': 0.6931471805599453, 'its': 0.0, 'special': 0.6931471805599453, 'officials': 0.6931471805599453, 'view': 0.6931471805599453, '7th': 0.6931471805599453, '38': 0.6931471805599453, 'with': 0.6931471805599453, 'increase': 0.6931471805599453, 'example': 0.6931471805599453, 'planned': 0.6931471805599453, 'will': 0.6931471805599453, 'however': 0.6931471805599453, 'may': 0.6931471805599453, 'target': 0.6931471805599453, 'highways': 0.6931471805599453, 'no': 0.6931471805599453, 'consistency': 0.6931471805599453, 'dedicated': 0.6931471805599453, 'be': 0.6931471805599453, 'bid': 0.6931471805599453, 'increased': 0.6931471805599453, 'kind': 0.6931471805599453, 'whether': 0.6931471805599453, 'location': 0.6931471805599453, 'success': 0.6931471805599453, '6.2': 0.6931471805599453, 'submitted': 0.6931471805599453, 'lawmakers': 0.6931471805599453, 'million': 0.6931471805599453, 'Besides': 0.6931471805599453, ')': 0.0, 'stakeholders': 0.6931471805599453, 'called': 0.6931471805599453, 'what': 0.6931471805599453, '15': 0.6931471805599453, 'climate': 0.6931471805599453, 'Dara': 0.6931471805599453, 'application': 0.6931471805599453, 'had': 0.6931471805599453, '2017': 0.0, 'consonance': 0.6931471805599453, '95': 0.6931471805599453, 'aim': 0.6931471805599453, 'numbers': 0.6931471805599453, 'most-populous': 0.6931471805599453, 'State': 0.0, '’': 0.6931471805599453, 'NCC': 0.6931471805599453, 'into': 0.6931471805599453, '€5.2': 0.6931471805599453, 'place': 0.6931471805599453, 'What': 0.6931471805599453, 'initiated': 0.6931471805599453, 'survival': 0.0, 'saying': 0.6931471805599453, 'took': 0.6931471805599453, 'Pradesh': 0.6931471805599453, '17': 0.6931471805599453} \n",
      "\n"
     ]
    }
   ],
   "source": [
    "def inverse_document_frequency(doc1, doc2):\n",
    "    word_tokens_doc1 = nltk.word_tokenize(doc1)\n",
    "    word_tokens_doc2 = nltk.word_tokenize(doc2)\n",
    "    \n",
    "    # dict to store the idf values\n",
    "    idf_dict = dict()\n",
    "    # set to store all unique words\n",
    "    all_words = set(word_tokens_doc1 + word_tokens_doc2)\n",
    "    \n",
    "    for word in all_words:\n",
    "        count = 0\n",
    "        if word in word_tokens_doc1:\n",
    "            count += 1\n",
    "        if word in word_tokens_doc2:\n",
    "            count += 1\n",
    "        idf_dict[word] = math.log(2 / count)\n",
    "    return idf_dict\n",
    "idf = inverse_document_frequency(doc1, doc2)\n",
    "print(\"Inverse Document Frequency: \", idf, \"\\n\")"
   ]
  }
 ],
 "metadata": {
  "kernelspec": {
   "display_name": "Python 3",
   "language": "python",
   "name": "python3"
  },
  "language_info": {
   "codemirror_mode": {
    "name": "ipython",
    "version": 3
   },
   "file_extension": ".py",
   "mimetype": "text/x-python",
   "name": "python",
   "nbconvert_exporter": "python",
   "pygments_lexer": "ipython3",
   "version": "3.12.4"
  }
 },
 "nbformat": 4,
 "nbformat_minor": 5
}
